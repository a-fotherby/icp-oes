{
 "cells": [
  {
   "cell_type": "code",
   "execution_count": 12,
   "metadata": {},
   "outputs": [
    {
     "name": "stdout",
     "output_type": "stream",
     "text": [
      "Data processed and saved to sukinda.nc\n",
      "Data processed and saved to deccan_soils.nc\n"
     ]
    },
    {
     "name": "stderr",
     "output_type": "stream",
     "text": [
      "/Users/angus/work/icp_oes/import_icpoes.py:188: UserWarning: rename 'sample_name' to 'sample_name' does not create an index anymore. Try using swap_dims instead or use set_index after rename to create an indexed coordinate.\n",
      "  ds = ds.rename(coord_mapping)\n",
      "/Users/angus/work/icp_oes/import_icpoes.py:188: UserWarning: rename 'species' to 'species' does not create an index anymore. Try using swap_dims instead or use set_index after rename to create an indexed coordinate.\n",
      "  ds = ds.rename(coord_mapping)\n",
      "/Users/angus/work/icp_oes/import_icpoes.py:188: UserWarning: rename 'sample_name' to 'sample_name' does not create an index anymore. Try using swap_dims instead or use set_index after rename to create an indexed coordinate.\n",
      "  ds = ds.rename(coord_mapping)\n",
      "/Users/angus/work/icp_oes/import_icpoes.py:188: UserWarning: rename 'species' to 'species' does not create an index anymore. Try using swap_dims instead or use set_index after rename to create an indexed coordinate.\n",
      "  ds = ds.rename(coord_mapping)\n"
     ]
    }
   ],
   "source": [
    "sukinda = '/Users/angus/work/sukinda/lab_work/cations/raw_data/2025_01_09_Angus_River_waters.csv'\n",
    "deccan_soils = '/Users/angus/work/sukinda/lab_work/cations/raw_data/2025_01_13_ANGUS_RIVER_WATERS.csv'\n",
    "\n",
    "file_paths = [sukinda, deccan_soils]\n",
    "file_names = ['sukinda.nc', 'deccan_soils.nc']\n",
    "\n",
    "for file_path, file_name in zip(file_paths, file_names):\n",
    "    %run process.py $file_path $file_name "
   ]
  },
  {
   "cell_type": "code",
   "execution_count": null,
   "metadata": {},
   "outputs": [],
   "source": []
  }
 ],
 "metadata": {
  "kernelspec": {
   "display_name": "topepan",
   "language": "python",
   "name": "python3"
  },
  "language_info": {
   "codemirror_mode": {
    "name": "ipython",
    "version": 3
   },
   "file_extension": ".py",
   "mimetype": "text/x-python",
   "name": "python",
   "nbconvert_exporter": "python",
   "pygments_lexer": "ipython3",
   "version": "3.11.4"
  }
 },
 "nbformat": 4,
 "nbformat_minor": 2
}
