{
 "cells": [
  {
   "cell_type": "code",
   "execution_count": 1,
   "metadata": {},
   "outputs": [
    {
     "name": "stdout",
     "output_type": "stream",
     "text": [
      "Data processed and saved to data/sukinda.nc\n",
      "Data processed and saved to data/deccan_soils.nc\n"
     ]
    },
    {
     "name": "stderr",
     "output_type": "stream",
     "text": [
      "/Users/angus/work/icp_oes/import_icpoes.py:188: UserWarning: rename 'sample_name' to 'sample_name' does not create an index anymore. Try using swap_dims instead or use set_index after rename to create an indexed coordinate.\n",
      "  ds = ds.rename(coord_mapping)\n",
      "/Users/angus/work/icp_oes/import_icpoes.py:188: UserWarning: rename 'species' to 'species' does not create an index anymore. Try using swap_dims instead or use set_index after rename to create an indexed coordinate.\n",
      "  ds = ds.rename(coord_mapping)\n",
      "/Users/angus/work/icp_oes/import_icpoes.py:188: UserWarning: rename 'sample_name' to 'sample_name' does not create an index anymore. Try using swap_dims instead or use set_index after rename to create an indexed coordinate.\n",
      "  ds = ds.rename(coord_mapping)\n",
      "/Users/angus/work/icp_oes/import_icpoes.py:188: UserWarning: rename 'species' to 'species' does not create an index anymore. Try using swap_dims instead or use set_index after rename to create an indexed coordinate.\n",
      "  ds = ds.rename(coord_mapping)\n"
     ]
    }
   ],
   "source": [
    "sukinda = '/Users/angus/work/sukinda/lab_work/cations/raw_data/2025_01_09_Angus_River_waters.csv'\n",
    "deccan_soils = '/Users/angus/work/sukinda/lab_work/cations/raw_data/2025_01_13_ANGUS_RIVER_WATERS.csv'\n",
    "\n",
    "file_paths = [sukinda, deccan_soils]\n",
    "file_names = ['data/sukinda.nc', 'data/deccan_soils.nc']\n",
    "\n",
    "for file_path, file_name in zip(file_paths, file_names):\n",
    "    %run process.py $file_path $file_name "
   ]
  },
  {
   "cell_type": "code",
   "execution_count": 3,
   "metadata": {},
   "outputs": [
    {
     "name": "stdout",
     "output_type": "stream",
     "text": [
      "['D10', 'D11', 'D12', 'D13', 'D14', 'D15', 'D16', 'D17', 'D18', 'D19', 'D1', 'D20', 'D21', 'D2', 'D3', 'D4', 'D5', 'D6', 'D7', 'D8', 'D9', 'D', 'Sukinda Filter Blank']\n",
      "['A', 'B', 'C', 'D', 'E', 'F', 'G', 'H', 'Cam-Tap-Water_1', 'Cam-Tap-Water_2', 'Cam-Tap-Water_3', 'Cam-Tap-Water_4', 'Cam-Tap-Water_5', 'SLRS-6_1', 'SLRS-6_2', 'SLRS-6_3', 'SLRS-6_4', 'SLRS-6_5', 'SPS-SW2 10%_1', 'SPS-SW2 10%_2', 'SPS-SW2 10%_3', 'SPS-SW2 10%_4', 'SPS-SW2 10%_5']\n",
      "Selected Dataset:\n",
      "<xarray.Dataset>\n",
      "Dimensions:                      (sample_name: 45, species: 39)\n",
      "Coordinates:\n",
      "  * sample_name                  (sample_name) object 'A' ... 'Sukinda Filter...\n",
      "  * species                      (species) object 'Al 396.152 Ax' ... 'Sr 421...\n",
      "Data variables: (12/29)\n",
      "    Flags                        (sample_name, species) object ...\n",
      "    Unadjusted_Data              (sample_name, species) float64 ...\n",
      "    Concentration                (sample_name, species) float64 ...\n",
      "    Intensity                    (sample_name, species) float64 ...\n",
      "    Intensity_SD                 (sample_name, species) float64 ...\n",
      "    Intensity___RSD              (sample_name, species) float64 ...\n",
      "    ...                           ...\n",
      "    Flags_Replicate_1            (sample_name, species) object ...\n",
      "    Flags_Replicate_2            (sample_name, species) object ...\n",
      "    Flags_Replicate_3            (sample_name, species) object ...\n",
      "    Flags_Replicate_4            (sample_name, species) object ...\n",
      "    Flags_Replicate_5            (sample_name, species) object ...\n",
      "    Concentration_mM             (sample_name, species) float64 ...\n",
      "\n",
      "Remaining Dataset:\n",
      "<xarray.Dataset>\n",
      "Dimensions:                      (sample_name: 39, species: 39)\n",
      "Coordinates:\n",
      "  * sample_name                  (sample_name) object 'A' 'BW' 'B' ... 'T8' 'T9'\n",
      "  * species                      (species) object 'Al 396.152 Ax' ... 'Sr 421...\n",
      "Data variables: (12/29)\n",
      "    Flags                        (sample_name, species) object ...\n",
      "    Unadjusted_Data              (sample_name, species) float64 ...\n",
      "    Concentration                (sample_name, species) float64 ...\n",
      "    Intensity                    (sample_name, species) float64 ...\n",
      "    Intensity_SD                 (sample_name, species) float64 ...\n",
      "    Intensity___RSD              (sample_name, species) float64 ...\n",
      "    ...                           ...\n",
      "    Flags_Replicate_1            (sample_name, species) object ...\n",
      "    Flags_Replicate_2            (sample_name, species) object ...\n",
      "    Flags_Replicate_3            (sample_name, species) object ...\n",
      "    Flags_Replicate_4            (sample_name, species) object ...\n",
      "    Flags_Replicate_5            (sample_name, species) object ...\n",
      "    Concentration_mM             (sample_name, species) float64 ...\n"
     ]
    }
   ],
   "source": [
    "# Split the Deccan and soil datasets.\n",
    "import xarray as xr\n",
    "ds = xr.open_dataset('data/deccan_soils.nc')\n",
    "\n",
    "from utils import match_sample_name\n",
    "\n",
    "labels_to_split = match_sample_name(ds, 'D', threshold=0.4).coords['sample_name'].values.tolist()\n",
    "labels_to_split.extend(['Sukinda Filter Blank'])\n",
    "print(labels_to_split)  \n",
    "# Define the list of sample names that should appear in both datasets.\n",
    "common_samples = ['A', 'B', 'C', 'D', 'E', 'F', 'G', 'H']\n",
    "check_stds = match_sample_name(ds, ['SPS-SW2 10%', 'SLRS-6', 'Cam-Tap-Water']).coords['sample_name'].values.tolist()\n",
    "common_samples.extend(check_stds)    # These will be included in both ds_selected and ds_remaining\n",
    "print(common_samples)\n",
    "# Get all sample names from the dataset in their original order.\n",
    "all_labels = ds.coords['sample_name'].values.tolist()\n",
    "\n",
    "# Build the list for the first dataset:\n",
    "# Include samples if they are either in labels_to_split or in common_samples.\n",
    "selected_labels = [name for name in all_labels if name in labels_to_split or name in common_samples]\n",
    "\n",
    "# Build the list for the second dataset:\n",
    "# Include samples if they are not in labels_to_split, unless they are in common_samples.\n",
    "# This ensures that any sample in common_samples appears in both datasets.\n",
    "remaining_labels = [name for name in all_labels if (name not in labels_to_split) or (name in common_samples)]\n",
    "\n",
    "# Select the datasets based on the computed labels.\n",
    "ds_selected = ds.sel(sample_name=selected_labels)\n",
    "ds_remaining = ds.sel(sample_name=remaining_labels)"
   ]
  },
  {
   "cell_type": "code",
   "execution_count": 4,
   "metadata": {},
   "outputs": [],
   "source": [
    "# Reorder sample coordinates\n",
    "from utils import reorder_sample_coord\n",
    "\n",
    "ds_deccan = reorder_sample_coord(ds_selected)\n",
    "ds_soils = reorder_sample_coord(ds_remaining)\n",
    "ds_deccan.to_netcdf('data/deccan.nc')\n",
    "ds_soils.to_netcdf('data/soils.nc')\n",
    "\n",
    "ds_sukinda = xr.open_dataset('data/sukinda.nc').load()\n",
    "ds_sukinda = reorder_sample_coord(ds_sukinda)\n",
    "ds_sukinda.to_netcdf('data/sukinda.nc')"
   ]
  }
 ],
 "metadata": {
  "kernelspec": {
   "display_name": "topepan",
   "language": "python",
   "name": "python3"
  },
  "language_info": {
   "codemirror_mode": {
    "name": "ipython",
    "version": 3
   },
   "file_extension": ".py",
   "mimetype": "text/x-python",
   "name": "python",
   "nbconvert_exporter": "python",
   "pygments_lexer": "ipython3",
   "version": "3.11.4"
  }
 },
 "nbformat": 4,
 "nbformat_minor": 2
}
